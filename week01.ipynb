{
  "cells": [
    {
      "cell_type": "markdown",
      "id": "5EYOw16LevW7",
      "metadata": {
        "id": "5EYOw16LevW7"
      },
      "source": [
        "# 안녕하세요 학생 여러분!!\n",
        "\n",
        "### 여기까지 오시느라 고생 많으셨습니다!!\n",
        "\n",
        "### 일단, 왼쪽 위 [파일]을 눌러주시고 메뉴 중 [Drive에 사본 저장]을 눌러 본인 구글 드라이브에 저장해주세요!!\n",
        "\n",
        "#### 그럼 즐거운 코딩 시간 되세요~\n",
        "\n",
        "\n",
        "---"
      ]
    },
    {
      "cell_type": "markdown",
      "id": "XKbWQL-c7m55",
      "metadata": {
        "id": "XKbWQL-c7m55"
      },
      "source": [
        "# Google Colab\n",
        "\n",
        "### 안녕하세요, 이 플랫폼은 Colab(코랩)이라고 하는, 파이썬 코딩 플랫폼입니다.\n",
        "\n",
        "지금 이 셀처럼 **텍스트**를 작성하는 셀을 만들거나, 아래 셀처럼 **파이썬 코드**를 작성할 수 있는 셀을 만들 수 있어요!\n",
        "\n",
        "텍스트가 들어있는 셀을 **더블 클릭**하면 수정이 가능하고, 각 셀의 위/아래의 가운데 쪽에 마우스를 가져다 대면 코드/텍스트 셀을 추가할 수 있어요!\n",
        "\n",
        "작성된 코드를 실행하는 방법은 두 가지로, Ctrl+Enter 또는 Shift+Enter를 누르면 코드 셀 아래에 실행 내용이 보여집니다.\n",
        "\n",
        "그 차이는 여러분이 찾아보세용~~~ 그럼 즐거운 코딩 시간"
      ]
    },
    {
      "cell_type": "code",
      "execution_count": null,
      "id": "su20NJZf7ndb",
      "metadata": {
        "id": "su20NJZf7ndb"
      },
      "outputs": [],
      "source": [
        "##### 안녕하세요, 이 셀은 실행 가능한 코드가 작성될 셀입니다.\n",
        "##### 이 셀은 코랩 실행을 어떻게 하는지를 알아보기 위한 임시 셀입니다.\n",
        "##### 이 셀을 클릭하셨다면, Shift+Enter 키를 눌러 아래 작성된 코드를 실행해주세요\n",
        "\n",
        "import time\n",
        "import random\n",
        "\n",
        "while True:\n",
        "  your_input = int(input('안녕하세요!!!!!!! 20 ~ 40 정도의 좋아하는 수를 하나 입력해주세요! : '))\n",
        "  if your_input < 20 or your_input > 45:\n",
        "    print('{}요?? 범위를 잘 지켜서 다시 한 번 입력해주세요!!\\n'.format(your_input))\n",
        "    continue\n",
        "  break\n",
        "\n",
        "my_str = \"2024년 04월 04일 코딩의 세계로 오신 것을 환영합니다. \"\n",
        "space = 0\n",
        "upper_bound = 7\n",
        "mode = 1 # 1 : 증가, 2 : 감소, 3 : 왔다갔다\n",
        "for i in range(your_input):\n",
        "  print(' ' * space + '하' * (i + 1) + '핫', my_str)\n",
        "  if mode == 1:\n",
        "    space += 1\n",
        "    if space == upper_bound:\n",
        "      mode = random.randint(2, 3)\n",
        "  if mode == 2:\n",
        "    space -= 1\n",
        "    if space == -1:\n",
        "      mode = random.randint(0, 1) * 2 + 1\n",
        "  if mode == 3:\n",
        "    space += random.randint(0, 1) * 2 - 1\n",
        "    if space == -1:\n",
        "      mode = 1\n",
        "    if space == upper_bound:\n",
        "      mode = 2\n",
        "\n",
        "  time.sleep(0.32)"
      ]
    },
    {
      "cell_type": "markdown",
      "id": "586c77b4",
      "metadata": {
        "id": "586c77b4"
      },
      "source": [
        "---\n",
        "# 출력 : 프린트(print) 함수"
      ]
    },
    {
      "cell_type": "markdown",
      "id": "222152ec",
      "metadata": {
        "id": "222152ec"
      },
      "source": [
        "- 프로그램으로 하여금 사용자에게 값(또는 어떤 메시지)을 보여주도록 함\n",
        "- ```print()``` 함수는 파이썬에서, 화면에 괄호 안의 것들을 출력하는 함수\n",
        "- 다양한 종류의 데이터를 출력하거나 문자열을 조합하여 출력하는 등 다양한 용도로 사용"
      ]
    },
    {
      "cell_type": "markdown",
      "id": "20bb08b8",
      "metadata": {
        "id": "20bb08b8"
      },
      "source": [
        "```print(value1, value2, ..., sep=' ', end='\\n', file=sys.stdout, flush=False)```\n",
        "\n",
        "### 기본 사용법\n",
        "\n",
        "- value1, value2, ... : 출력하고자 하는 값들을 나열\n",
        "\n",
        "> 추가 기능 (몰라도 됩니다)\n",
        "- sep (optional) : 값들 사이에 들어갈 구분자를 지정. 기본값은 공백.\n",
        "- end (optional) : 출력의 마지막에 붙는 문자열을 지정. 기본값은 개행 문자(\\n).\n",
        "- file (optional) : 출력할 파일 객체를 지정. 기본값은 표준 출력(sys.stdout).\n",
        "- flush (optional) : 출력 버퍼를 비울지 여부를 지정. 기본값은 False."
      ]
    },
    {
      "cell_type": "markdown",
      "id": "b3574512",
      "metadata": {
        "id": "b3574512"
      },
      "source": [
        "> ***센스 있는*** 출력을 위한 특수 문자 - 이스케이프 코드(escape code)\n",
        "\n",
        "- ```\\n```: 문자열 안에서 줄을 바꿀 때 사용\n",
        "\n",
        "- ```\\t```: 문자열 사이에 탭 간격을 줄 때 사용\n",
        "\n",
        "- ```\\\\```: 문자 \\를 그대로 표현할 때 사용\n",
        "\n",
        "- ```\\'```: 작은 따옴표를 그대로 표현할 때 사용\n",
        "\n",
        "- ```\\\"```: 큰 따옴표를 그대로 표현할 때 사용"
      ]
    },
    {
      "cell_type": "code",
      "execution_count": null,
      "id": "NaLDPfvr6dXV",
      "metadata": {
        "id": "NaLDPfvr6dXV"
      },
      "outputs": [
        {
          "name": "stdout",
          "output_type": "stream",
          "text": [
            "Hello World!!\n"
          ]
        }
      ],
      "source": [
        "# print 함수는 괄호 ( ) 안의 큰따옴표 \" \" 안의 문장(단어)들을 출력해줍니다!\n",
        "\n",
        "# 1. [Hello World!!]를 출력해 봅시다!\n",
        "# 결과: Hello World!!\n",
        "\n"
      ]
    },
    {
      "cell_type": "code",
      "execution_count": null,
      "id": "XoAt6Kcr6gti",
      "metadata": {
        "id": "XoAt6Kcr6gti"
      },
      "outputs": [
        {
          "name": "stdout",
          "output_type": "stream",
          "text": [
            "이렇게 쉼표로 구분해서 출력해도 될까?\n"
          ]
        }
      ],
      "source": [
        "# 큰따옴표로 묶인 문자열들을 쉼표로 나열해서 출력하는 것도 가능합니다!\n",
        "\n",
        "# 2. [이렇게], [쉼표로], [구분해서], [출력해도], [될까?]라는 어절 단위(뛰어쓰기 단위)로 구분되어 있는 문자열를 한 문장으로 출력해 봅시다!\n",
        "# 결과: 이렇게 쉼표로 구분해서 출력해도 될까?\n",
        "# hint: 쉼표(,)를 사용하면 문자를 나열할 수 있어요!\n",
        "  \n"
      ]
    },
    {
      "cell_type": "code",
      "execution_count": null,
      "id": "IyxR86oH6nDz",
      "metadata": {
        "id": "IyxR86oH6nDz"
      },
      "outputs": [
        {
          "name": "stdout",
          "output_type": "stream",
          "text": [
            "2와 3의 합은 5고 곱은 6이다.\n"
          ]
        }
      ],
      "source": [
        "# 큰따옴표 \" \" 로 묶인 문자열 뿐만 아니라, 숫자들도 출력해줍니다!\n",
        "\n",
        "# 3. [2와 3의 합은 5고 곱은 6이다.]를 출력할 때 합과 곱의 결과는 숫자를 이용하여 출력해 봅시다!\n",
        "# 결과: 2와 3의 합은 5고 곱은 6이다.\n",
        "\n"
      ]
    },
    {
      "cell_type": "code",
      "execution_count": null,
      "id": "74388da3",
      "metadata": {
        "id": "74388da3"
      },
      "outputs": [
        {
          "name": "stdout",
          "output_type": "stream",
          "text": [
            "문자열들%사이사이에%퍼센트를%넣고싶은데\n"
          ]
        }
      ],
      "source": [
        "# 문자열 사이사이에 특정한 값을 넣어 출력할 수도 있습니다.\n",
        "\n",
        "# 4. [문자열들], [사이사이에], [퍼센트를], [넣고싶은데]라는 문자열을 출력할때 사이에 %를 삽입해서 출력해봅시다.\n",
        "# 결과 : 문자열들%사이사이에%퍼센트를%넣고싶은데\n",
        "# hint: print()의 옵션인 sep = \" \"를 사용하면 문자열 사이사이에 특정한 값을 넣을 수 있어요!\n",
        "\n"
      ]
    },
    {
      "cell_type": "code",
      "execution_count": null,
      "id": "699b92ae",
      "metadata": {
        "id": "699b92ae"
      },
      "outputs": [
        {
          "name": "stdout",
          "output_type": "stream",
          "text": [
            "print 함수는 자동으로\n",
            "줄을 바꾸어 줍니다.\n"
          ]
        }
      ],
      "source": [
        "# print 함수가 수행된 후 자동으로 줄 바꿈이 됩니다.\n",
        "\n",
        "# 5. [print 함수는 자동으로],[줄을 바꾸어 줍니다.]를 print함수를 두번 사용해서 각각 출력해 봅시다!\n",
        "# 결과: print 함수는 자동으로\n",
        "#       줄을 바꾸어 줍니다.\n",
        "\n"
      ]
    },
    {
      "cell_type": "code",
      "execution_count": null,
      "id": "368a74fa",
      "metadata": {
        "id": "368a74fa"
      },
      "outputs": [
        {
          "name": "stdout",
          "output_type": "stream",
          "text": [
            "print 함수는 자동으로 줄을 바꾸어 줍니다.\n"
          ]
        }
      ],
      "source": [
        "# print 함수의 옵션인 end = \" \"를 사용하면 줄 바꿈하지 않습니다.\n",
        "\n",
        "# 6. [print 함수는 자동으로],[줄을 바꾸어 줍니다.]를 print함수를 두번 사용해서 각각 출력해 봅시다! 이때 첫 번째 print함수 끝에는 end = \" \"붙여 봅시다.\n",
        "# end = \" \" 옵션은 문장 끝에 특정한 값을 붙여줄 때 사용합니다.\n",
        "# 결과: print 함수는 자동으로 줄을 바꾸어 줍니다.\n"
      ]
    },
    {
      "cell_type": "code",
      "execution_count": null,
      "id": "iRoMNFIw7gCQ",
      "metadata": {
        "id": "iRoMNFIw7gCQ"
      },
      "outputs": [
        {
          "name": "stdout",
          "output_type": "stream",
          "text": [
            "print 함수는 자동으로\n",
            "줄을 바꾸어 줍니다.\n"
          ]
        }
      ],
      "source": [
        "# 이스케이프 코드를 이용하여 줄바꿈을 할 수 있어요!\n",
        "\n",
        "# 7. [print 함수는 자동으로 줄을 바꾸어 줍니다.]라는 하나의 문자열을 \"자동으로\"와 \"줄을\" 이라는 단어 사이에 줄 바꿈이 일어나는 출력문을 만들어 봅시다!\n",
        "# 결과: print 함수는 자동으로\n",
        "#       줄을 바꾸어 줍니다.\n",
        "# hint: \\n을 사용하면 줄바꿈이 일어나요!\n"
      ]
    },
    {
      "cell_type": "code",
      "execution_count": null,
      "id": "qpB6qXcVWzqV",
      "metadata": {
        "id": "qpB6qXcVWzqV"
      },
      "outputs": [],
      "source": [
        "# 아래에 본인의 이름과 학년, 반을 출력하는 코드를 작성해주세요!\n",
        "# 출력 예시) 수원외고 0학년 0반 000입니다.\n",
        "\n"
      ]
    },
    {
      "cell_type": "markdown",
      "id": "647dfe28",
      "metadata": {
        "id": "647dfe28"
      },
      "source": [
        "# 변수"
      ]
    },
    {
      "cell_type": "markdown",
      "id": "167e57df",
      "metadata": {
        "id": "167e57df"
      },
      "source": [
        "데이터(값)를 저장하는 메모리 공간의 이름\n",
        "- 쉽게 데이터에 접근할 수 있도록 메모리 특정 공간에 이름을 붙인 것\n",
        "- 내용을 다른 값으로 갱신할 수 있음\n",
        "- 예를 들어, a = 3 하면?? a라는 이름의 변수에 3이라는 값을 저장!\n",
        "  - print(a)를 하면 3이 출력됨"
      ]
    },
    {
      "cell_type": "markdown",
      "id": "b28c744e",
      "metadata": {
        "id": "b28c744e"
      },
      "source": [
        "변수명 = 저장할 값\n",
        "- ```a = 6```과 같이 선언하면, 컴퓨터가 메모리 어딘가에 주소값을 할당받아 저장\n",
        "- 대소문자 구분에 유의"
      ]
    },
    {
      "cell_type": "code",
      "execution_count": 16,
      "id": "8FJISc-GAmnW",
      "metadata": {
        "id": "8FJISc-GAmnW"
      },
      "outputs": [
        {
          "name": "stdout",
          "output_type": "stream",
          "text": [
            "Today is 20250403 and Tomorrow is 20250404\n"
          ]
        }
      ],
      "source": [
        "# 변수명은 간결하고 변수값의 내용을 대표하는 이름이어야합니다!\n",
        "# 변수명이 복잡한 예시\n",
        "\n",
        "MyFirstVariableOhMyGodSoInteresting = 20250403\n",
        "print('Today is', MyFirstVariableOhMyGodSoInteresting, 'and Tomorrow is', MyFirstVariableOhMyGodSoInteresting + 1)"
      ]
    },
    {
      "cell_type": "code",
      "execution_count": null,
      "id": "T5RM2Lw2A3oz",
      "metadata": {
        "id": "T5RM2Lw2A3oz"
      },
      "outputs": [
        {
          "name": "stdout",
          "output_type": "stream",
          "text": [
            "Today is 20250403 and Tomorrow is 20250404\n"
          ]
        }
      ],
      "source": [
        "# 변수명이 간단한 예시 -> 유지 보수 및 협력에 유리 \n",
        "\n",
        "today = 20250403 \n",
        "print('Today is', today, 'and Tomorrow is', today + 1)"
      ]
    },
    {
      "cell_type": "code",
      "execution_count": null,
      "id": "80060400",
      "metadata": {
        "id": "80060400"
      },
      "outputs": [],
      "source": [
        "# 변수에 숫자를 할당해 봅시다!\n",
        "# 8. a라는 변수에 6을 넣고 b라는 변수에 4를 넣어 출력해봅시다.\n",
        "\n",
        "# 이 위치에 코드를 입력하세요\n",
        "\n",
        "\n",
        "print('a :', a, '| b :', b)"
      ]
    },
    {
      "cell_type": "code",
      "execution_count": null,
      "id": "uBm4BBI0TsHP",
      "metadata": {
        "id": "uBm4BBI0TsHP"
      },
      "outputs": [],
      "source": [
        "# 기존 변수에 다른 수를 할당해 봅시다!\n",
        "# 9. a라는 변수에 a를 b로 나눈 결과를 넣어 할당해주고 다시 출력해봅시다.\n",
        "\n",
        "# 이 위치에 코드를 입력하세요\n",
        "\n",
        "\n",
        "print('a :', a, '| b :', b)"
      ]
    },
    {
      "cell_type": "code",
      "execution_count": null,
      "id": "405da7e4",
      "metadata": {
        "id": "405da7e4"
      },
      "outputs": [],
      "source": [
        "# a와 b의 자료형을 알아봅시다.\n",
        "\n",
        "print('변수 a의 값은', a,'고 type은', type(a))\n",
        "\n",
        "print('변수 b의 값은', b,'고 type은', type(b))"
      ]
    },
    {
      "cell_type": "markdown",
      "id": "zFcOZgHvT4KG",
      "metadata": {
        "id": "zFcOZgHvT4KG"
      },
      "source": [
        "> 문자형"
      ]
    },
    {
      "cell_type": "code",
      "execution_count": null,
      "id": "9e52b054",
      "metadata": {
        "id": "9e52b054"
      },
      "outputs": [
        {
          "name": "stdout",
          "output_type": "stream",
          "text": [
            "파이썬 재밌다\n"
          ]
        }
      ],
      "source": [
        "# 변수에 문자를 할당해 봅시다!\n",
        "# 10. head라는 변수에 [파이썬은]을 넣고 tail라는 변수에 [재밌다]를 넣어 출력해봅시다.\n",
        "\n",
        "# 이 위치에 코드를 입력하세요\n",
        "\n",
        "\n",
        "print(head, tail)"
      ]
    },
    {
      "cell_type": "code",
      "execution_count": null,
      "id": "b0cb4817",
      "metadata": {
        "id": "b0cb4817"
      },
      "outputs": [],
      "source": [
        "# 문자열의 연산을 통해 똑같은 문자를 여러번 출력해 봅시다!\n",
        "# 11. a에는 head에 5를 곱해서 할당, b에는 head에 \"재밌다\"를 더해서 할당, c에는 head에 \"재밌다\"를 더한 값에 5를 곱해 할당해봅시다.\n",
        "\n",
        "# 이 위치에 코드를 입력하세요\n",
        "a = \n",
        "b = \n",
        "c = \n",
        "\n",
        "print('a :', a)\n",
        "print('b :', b)\n",
        "print('c :', c)"
      ]
    },
    {
      "cell_type": "markdown",
      "id": "vYEZJUOybH9-",
      "metadata": {
        "id": "vYEZJUOybH9-"
      },
      "source": [
        "---\n",
        "# 입력\n",
        "\n",
        "실행 중인 프로그램에 사용자가 값을 전달하는 방법!\n",
        "- 일반적으로 입력받은 값을 변수에 저장하여 사용\n",
        "- 기본 입력함수 : ```input()```\n",
        "  - 예를 들어, a = input() 이라고 하면 사용자가 입력한 값을 a라는 변수에 저장"
      ]
    },
    {
      "cell_type": "code",
      "execution_count": null,
      "id": "RsbOI5s8boty",
      "metadata": {
        "id": "RsbOI5s8boty"
      },
      "outputs": [],
      "source": [
        "# input()을 통해 사용자한테 값을 입력받아 봅시다.  (입력은 기본적으로 문자열로 입력을 받습니다.)\n",
        "# 12. [Input Your Message: ]이라는 질문을 출력하고 a에 값을 입력 받아 a값을 출력해봅시다.\n",
        "\n",
        "# 이 위치에 코드를 입력하세요\n",
        "\n",
        "\n",
        "print('My Message :', a)\n",
        "print('My Message * 2 :', a * 2)\n",
        "print('type of a is', type(a))"
      ]
    },
    {
      "cell_type": "code",
      "execution_count": null,
      "id": "WdAfZQzjcT-Z",
      "metadata": {
        "id": "WdAfZQzjcT-Z"
      },
      "outputs": [],
      "source": [
        "# 12. [Input Your Number: ]이라는 질문을 출력하고 a에 정수 값을 입력 받아 a값을 출력해봅시다.\n",
        "\n",
        "# 이 위치에 코드를 입력하세요\n",
        "\n",
        "\n",
        "print('My Message :', a)\n",
        "print('My Message * 2 :', a * 2)\n",
        "print('type of a is', type(a))"
      ]
    },
    {
      "cell_type": "markdown",
      "id": "06dfe295",
      "metadata": {
        "id": "06dfe295"
      },
      "source": [
        "# 자료형"
      ]
    },
    {
      "cell_type": "markdown",
      "id": "cc16279d",
      "metadata": {
        "id": "cc16279d"
      },
      "source": [
        "## 숫자형(Number)"
      ]
    },
    {
      "cell_type": "markdown",
      "id": "496e3b8a",
      "metadata": {
        "id": "496e3b8a"
      },
      "source": [
        "### 정수형(Integer)"
      ]
    },
    {
      "cell_type": "markdown",
      "id": "36ad6946",
      "metadata": {
        "id": "36ad6946"
      },
      "source": [
        "정수형은 소수점 없이 정수 값을 나타내는 자료형으로, 파이썬에서 매우 기본적이고 자주 사용되는 자료형 중 하나"
      ]
    },
    {
      "cell_type": "markdown",
      "id": "e80a4c9b",
      "metadata": {
        "id": "e80a4c9b"
      },
      "source": [
        "### 실수형"
      ]
    },
    {
      "cell_type": "markdown",
      "id": "9b99d07d",
      "metadata": {
        "id": "9b99d07d"
      },
      "source": [
        "실수형은 소수점을 포함한 숫자를 나타내는 자료형으로, 파이썬에서 매우 기본적이고 자주 사용되는 자료형 중 하나"
      ]
    },
    {
      "cell_type": "code",
      "execution_count": null,
      "id": "320baeb7",
      "metadata": {
        "id": "320baeb7"
      },
      "outputs": [],
      "source": [
        "# 실수형과 정수형 혼합 연산\n",
        "a = 5\n",
        "b = 2.5\n",
        "\n",
        "# 정수형과 실수형의 덧셈\n",
        "sum_result = a + b\n",
        "\n",
        "# 정수형과 실수형의 곱셈\n",
        "mul_result = a * b\n",
        "\n",
        "print(\"Sum Result:\", sum_result)\n",
        "print(\"Multiplication Result:\", mul_result)"
      ]
    },
    {
      "cell_type": "markdown",
      "id": "307fe420",
      "metadata": {
        "id": "307fe420"
      },
      "source": [
        "### 숫자형 자료의 연산"
      ]
    },
    {
      "cell_type": "code",
      "execution_count": 23,
      "id": "112b3180",
      "metadata": {
        "id": "112b3180"
      },
      "outputs": [],
      "source": [
        "a = 3\n",
        "b = 2"
      ]
    },
    {
      "cell_type": "code",
      "execution_count": null,
      "id": "dcfc7650",
      "metadata": {
        "id": "dcfc7650"
      },
      "outputs": [],
      "source": [
        "# 정수형 변수들의 덧셈 결과\n",
        "type(a + b)"
      ]
    },
    {
      "cell_type": "code",
      "execution_count": null,
      "id": "8cc4a7c3",
      "metadata": {
        "id": "8cc4a7c3"
      },
      "outputs": [],
      "source": [
        "# 정수형 변수들의 나눗셈 결과\n",
        "type(a / b)"
      ]
    },
    {
      "cell_type": "code",
      "execution_count": null,
      "id": "f4a6b499",
      "metadata": {
        "id": "f4a6b499"
      },
      "outputs": [],
      "source": [
        "a = 2\n",
        "b = 3.5"
      ]
    },
    {
      "cell_type": "code",
      "execution_count": null,
      "id": "1bce8c26",
      "metadata": {
        "id": "1bce8c26"
      },
      "outputs": [],
      "source": [
        "# 정수형 변수와 실수형 변수의 덧셈 결과\n",
        "type(a + b)"
      ]
    },
    {
      "cell_type": "code",
      "execution_count": null,
      "id": "ffc9e872",
      "metadata": {
        "id": "ffc9e872"
      },
      "outputs": [],
      "source": [
        "# 정수형 변수와 실수형 변수의 곱셈 결과\n",
        "type(a * b)"
      ]
    },
    {
      "cell_type": "markdown",
      "id": "MYQ6OFbSDF30",
      "metadata": {
        "id": "MYQ6OFbSDF30"
      },
      "source": [
        "---"
      ]
    },
    {
      "cell_type": "markdown",
      "id": "YKkD1Y0FDHB6",
      "metadata": {
        "id": "YKkD1Y0FDHB6"
      },
      "source": [
        "## 이번 주 실습 내용은 여기까지입니다!!\n",
        "\n",
        "### 실습 내용을 되돌아 볼 수 있도록 몇 가지 예제를 준비했는데, 차근차근 하나씩 풀어보고, 모르는 게 있다면 손을 들고 튜터들에게 배워봅시다!!"
      ]
    },
    {
      "cell_type": "markdown",
      "id": "k2nRfoyjDSrH",
      "metadata": {
        "id": "k2nRfoyjDSrH"
      },
      "source": [
        "### 문제 1\n",
        "\n",
        "#### 본인의 이름을 변수에 저장해서, print를 통해 화면에 출력해주세요!\n",
        "\n",
        "- 출력 예시 : 제 이름은 빅스비 입니다."
      ]
    },
    {
      "cell_type": "code",
      "execution_count": null,
      "id": "j4Gs2-q0DGUQ",
      "metadata": {
        "colab": {
          "base_uri": "https://localhost:8080/"
        },
        "id": "j4Gs2-q0DGUQ",
        "outputId": "2aab6061-e390-4a12-ab84-b00085ce453a"
      },
      "outputs": [
        {
          "name": "stdout",
          "output_type": "stream",
          "text": [
            "제 이름은 빅스비 입니다.\n"
          ]
        }
      ],
      "source": [
        "## 아래 예시와 같이 출력되도록 코드를 작성해주세요!"
      ]
    },
    {
      "cell_type": "code",
      "execution_count": null,
      "id": "uDnMl9waE0eh",
      "metadata": {
        "id": "uDnMl9waE0eh"
      },
      "outputs": [],
      "source": [
        "## 여기에 코드를 작성해주세요\n",
        "\n",
        "\n",
        "\n"
      ]
    },
    {
      "cell_type": "markdown",
      "id": "M48TBISMDj68",
      "metadata": {
        "id": "M48TBISMDj68"
      },
      "source": [
        "---\n",
        "\n",
        "### 문제 2\n",
        "\n",
        "프로그램에, 이름과 나이를 입력하면 \"{이름}은(는) {}살입니다.\"를 출력하는 코드를 작성해주세요!\n",
        "\n",
        "- 프로그램 실행 예시 :  \n",
        "  - \"이름을 입력해주세요 : \"라고 출력되면, 이름을 입력한다.\n",
        "  - \"나이를 입력해주세요 : \"라고 출력되면, 나이를 입력한다.\n",
        "  - 이름과 나이의 입력이 완료되면, \"{이름}은(는) {나이}살입니다\"하고 출력한다.\n",
        "\n",
        "- 입력 예시 :\n",
        "  - 이름 : 뽀로로\n",
        "  - 나이 : 5\n",
        "- 출력 예시 :  \n",
        "  - 뽀로로은(는) 5살입니다."
      ]
    },
    {
      "cell_type": "code",
      "execution_count": null,
      "id": "1zq_LUU3EdRA",
      "metadata": {
        "colab": {
          "base_uri": "https://localhost:8080/"
        },
        "id": "1zq_LUU3EdRA",
        "outputId": "41003426-36b4-4d01-a78d-8fae49afbb7c"
      },
      "outputs": [
        {
          "name": "stdout",
          "output_type": "stream",
          "text": [
            "이름을 입력해주세요 : 뽀로로\n",
            "나이를 입력해주세요 : 5\n",
            "뽀로로는 5살입니다.\n"
          ]
        }
      ],
      "source": [
        "## 아래 예시와 같이 출력되도록 코드를 작성해주세요!"
      ]
    },
    {
      "cell_type": "code",
      "execution_count": null,
      "id": "y7zoUx92E1En",
      "metadata": {
        "id": "y7zoUx92E1En"
      },
      "outputs": [],
      "source": [
        "## 여기에 코드를 작성해주세요\n",
        "\n",
        "\n",
        "\n"
      ]
    },
    {
      "cell_type": "markdown",
      "id": "uY74dToSFGxg",
      "metadata": {
        "id": "uY74dToSFGxg"
      },
      "source": [
        "### 문제 2-1\n",
        "\n",
        "이번에는 문제 2와 똑같이 이름, 나이를 입력받고,\n",
        "\n",
        "{이름} 은 {나이} 살이고, 1년 뒤에는 {나이 + 1}살, 5년 뒤에는 {나이 + 5} 살입니다.\n",
        "위 문장처럼 1년 뒤, 5년 뒤 나이까지 출력해주세요!\n"
      ]
    },
    {
      "cell_type": "code",
      "execution_count": null,
      "id": "xzqFQcwdEzOn",
      "metadata": {
        "colab": {
          "base_uri": "https://localhost:8080/"
        },
        "id": "xzqFQcwdEzOn",
        "outputId": "59126581-7c8d-48ca-dc8b-8298f7b40576"
      },
      "outputs": [
        {
          "name": "stdout",
          "output_type": "stream",
          "text": [
            "이름을 입력해주세요 : 뽀로로\n",
            "나이를 입력해주세요 : 5\n",
            "뽀로로 는 5 살이고, 1년 뒤에는 6 살, 5년 뒤에는 10 살입니다.\n"
          ]
        }
      ],
      "source": [
        "## 아래 예시와 같이 출력되도록 코드를 작성해주세요!"
      ]
    },
    {
      "cell_type": "code",
      "execution_count": null,
      "id": "SW334CK9Fr2b",
      "metadata": {
        "id": "SW334CK9Fr2b"
      },
      "outputs": [],
      "source": [
        "## 여기에 코드를 작성해주세요\n",
        "\n",
        "\n",
        "\n"
      ]
    },
    {
      "cell_type": "markdown",
      "id": "8-k4hC8bFshA",
      "metadata": {
        "id": "8-k4hC8bFshA"
      },
      "source": [
        "---\n",
        "\n",
        "### 문제 4\n",
        "\n",
        "2 ~ 9 사이의 정수를 입력받아서, 구구단 중에서 입력받은 정수에 맞는 단 내용을 출력해주세요!\n",
        "\n",
        "- 입력 예시 : 2\n",
        "- 출력 예시 :  \n",
        "2 * 1 = 2\n",
        "\n",
        "2 * 2 = 4\n",
        "\n",
        "2 * 3 = 6\n",
        "\n",
        "2 * 4 = 8\n",
        "\n",
        "2 * 5 = 10\n",
        "\n",
        "2 * 6 = 12\n",
        "\n",
        "2 * 7 = 14\n",
        "\n",
        "2 * 8 = 16\n",
        "\n",
        "2 * 9 = 18\n"
      ]
    },
    {
      "cell_type": "code",
      "execution_count": null,
      "id": "NRDjEunYFveR",
      "metadata": {
        "colab": {
          "base_uri": "https://localhost:8080/"
        },
        "id": "NRDjEunYFveR",
        "outputId": "14e445db-b0e7-4985-c988-e792553921dc"
      },
      "outputs": [
        {
          "name": "stdout",
          "output_type": "stream",
          "text": [
            "2 ~ 9 사이의 정수를 입력해주세요 : 5\n",
            "5 * 1 = 5\n",
            "5 * 2 = 10\n",
            "5 * 3 = 15\n",
            "5 * 4 = 20\n",
            "5 * 5 = 25\n",
            "5 * 6 = 30\n",
            "5 * 7 = 35\n",
            "5 * 8 = 40\n",
            "5 * 9 = 45\n"
          ]
        }
      ],
      "source": [
        "## 아래 예시와 같이 출력되도록 코드를 작성해주세요!"
      ]
    },
    {
      "cell_type": "code",
      "execution_count": null,
      "id": "dLiuBeWRGmfu",
      "metadata": {
        "id": "dLiuBeWRGmfu"
      },
      "outputs": [],
      "source": [
        "## 여기에 코드를 작성해주세요\n",
        "\n",
        "\n",
        "\n"
      ]
    }
  ],
  "metadata": {
    "colab": {
      "provenance": []
    },
    "kernelspec": {
      "display_name": "base",
      "language": "python",
      "name": "python3"
    },
    "language_info": {
      "codemirror_mode": {
        "name": "ipython",
        "version": 3
      },
      "file_extension": ".py",
      "mimetype": "text/x-python",
      "name": "python",
      "nbconvert_exporter": "python",
      "pygments_lexer": "ipython3",
      "version": "3.12.7"
    },
    "toc": {
      "base_numbering": 1,
      "nav_menu": {},
      "number_sections": true,
      "sideBar": true,
      "skip_h1_title": false,
      "title_cell": "Table of Contents",
      "title_sidebar": "Contents",
      "toc_cell": false,
      "toc_position": {},
      "toc_section_display": true,
      "toc_window_display": false
    },
    "varInspector": {
      "cols": {
        "lenName": 16,
        "lenType": 16,
        "lenVar": 40
      },
      "kernels_config": {
        "python": {
          "delete_cmd_postfix": "",
          "delete_cmd_prefix": "del ",
          "library": "var_list.py",
          "varRefreshCmd": "print(var_dic_list())"
        },
        "r": {
          "delete_cmd_postfix": ") ",
          "delete_cmd_prefix": "rm(",
          "library": "var_list.r",
          "varRefreshCmd": "cat(var_dic_list()) "
        }
      },
      "types_to_exclude": [
        "module",
        "function",
        "builtin_function_or_method",
        "instance",
        "_Feature"
      ],
      "window_display": false
    }
  },
  "nbformat": 4,
  "nbformat_minor": 5
}
